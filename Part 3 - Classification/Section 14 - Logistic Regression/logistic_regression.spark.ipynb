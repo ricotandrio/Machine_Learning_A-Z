{
 "cells": [
  {
   "cell_type": "markdown",
   "metadata": {},
   "source": [
    "### Run with Spark 3.4 on Python 3.7"
   ]
  },
  {
   "cell_type": "code",
   "execution_count": 19,
   "metadata": {},
   "outputs": [
    {
     "name": "stdout",
     "output_type": "stream",
     "text": [
      "+--------+------+---+---------------+---------+\n",
      "| User ID|Gender|Age|EstimatedSalary|Purchased|\n",
      "+--------+------+---+---------------+---------+\n",
      "|15624510|  Male| 19|          19000|        0|\n",
      "|15810944|  Male| 35|          20000|        0|\n",
      "|15668575|Female| 26|          43000|        0|\n",
      "+--------+------+---+---------------+---------+\n",
      "only showing top 3 rows\n",
      "\n"
     ]
    }
   ],
   "source": [
    "from pyspark.sql import SparkSession\n",
    "from pyspark.sql.functions import when \n",
    "from pyspark.ml.feature import VectorAssembler, StandardScaler\n",
    "from pyspark.ml.classification import LogisticRegression\n",
    "from pyspark.ml.evaluation import BinaryClassificationEvaluator, MulticlassClassificationEvaluator\n",
    "\n",
    "import matplotlib.pyplot as plt\n",
    "\n",
    "spark = SparkSession.builder.getOrCreate()\n",
    "\n",
    "df = spark.read.csv('Social_Network_Ads.csv', header=True, inferSchema=True)\n",
    "\n",
    "df.show(3)"
   ]
  },
  {
   "cell_type": "code",
   "execution_count": 20,
   "metadata": {},
   "outputs": [
    {
     "data": {
      "text/plain": [
       "(322, 78)"
      ]
     },
     "execution_count": 20,
     "metadata": {},
     "output_type": "execute_result"
    }
   ],
   "source": [
    "# splitting the data into training and test sets with random seed 42\n",
    "df_train, df_test = df.randomSplit([0.75, 0.25], seed=42)\n",
    "\n",
    "df_train.count(), df_test.count()"
   ]
  },
  {
   "cell_type": "code",
   "execution_count": 21,
   "metadata": {},
   "outputs": [
    {
     "name": "stdout",
     "output_type": "stream",
     "text": [
      "+------+---+---------+---------------+\n",
      "|Gender|Age|Purchased|EstimatedSalary|\n",
      "+------+---+---------+---------------+\n",
      "|Female| 35|        0|          57000|\n",
      "|Female| 58|        1|          95000|\n",
      "|  Male| 34|        0|         115000|\n",
      "+------+---+---------+---------------+\n",
      "only showing top 3 rows\n",
      "\n",
      "+------+---+---------+---------------+\n",
      "|Gender|Age|Purchased|EstimatedSalary|\n",
      "+------+---+---------+---------------+\n",
      "|Female| 26|        0|          80000|\n",
      "|  Male| 40|        1|          71000|\n",
      "|Female| 58|        1|          47000|\n",
      "+------+---+---------+---------------+\n",
      "only showing top 3 rows\n",
      "\n"
     ]
    }
   ],
   "source": [
    "# select the features and target of train and test data then drop the null values\n",
    "df_train = df_train.select('Gender', 'Age', 'Purchased', 'EstimatedSalary').na.drop()\n",
    "\n",
    "df_train.show(3)\n",
    "\n",
    "df_test = df_test.select('Gender', 'Age', 'Purchased', 'EstimatedSalary').na.drop()\n",
    "\n",
    "df_test.show(3)"
   ]
  },
  {
   "cell_type": "code",
   "execution_count": 22,
   "metadata": {},
   "outputs": [
    {
     "name": "stdout",
     "output_type": "stream",
     "text": [
      "+------+---+---------+---------------+\n",
      "|Gender|Age|Purchased|EstimatedSalary|\n",
      "+------+---+---------+---------------+\n",
      "|     1| 35|        0|          57000|\n",
      "|     1| 58|        1|          95000|\n",
      "|     0| 34|        0|         115000|\n",
      "+------+---+---------+---------------+\n",
      "only showing top 3 rows\n",
      "\n",
      "+------+---+---------+---------------+\n",
      "|Gender|Age|Purchased|EstimatedSalary|\n",
      "+------+---+---------+---------------+\n",
      "|     1| 26|        0|          80000|\n",
      "|     0| 40|        1|          71000|\n",
      "|     1| 58|        1|          47000|\n",
      "+------+---+---------+---------------+\n",
      "only showing top 3 rows\n",
      "\n"
     ]
    }
   ],
   "source": [
    "# change gender column to 0 and 1\n",
    "\n",
    "df_train = df_train.withColumn('Gender', \n",
    "\t\t\t\t\t\t\t\t\t\t\t\t\t\t\t when(df_train['Gender'] == 'Male', 0).\n",
    "                               when(df_train['Gender'] == 'Female', 1)\n",
    "\t\t\t\t\t\t\t\t\t\t\t\t\t\t\t)\n",
    "\n",
    "df_train.show(3)\n",
    "\n",
    "df_test = df_test.withColumn('Gender',\n",
    "\t\t\t\t\t\t\t\t\t\t\t\t\t\t when(df_test['Gender'] == 'Male', 0).\n",
    "                             when(df_test['Gender'] == 'Female', 1)\n",
    "\t\t\t\t\t\t\t\t\t\t\t\t\t\t)\n",
    "\n",
    "df_test.show(3)"
   ]
  },
  {
   "cell_type": "code",
   "execution_count": 23,
   "metadata": {},
   "outputs": [
    {
     "name": "stdout",
     "output_type": "stream",
     "text": [
      "+------+---+---------+---------------+--------------+--------------------+\n",
      "|Gender|Age|Purchased|EstimatedSalary|      features|     features_scaled|\n",
      "+------+---+---------+---------------+--------------+--------------------+\n",
      "|     1| 35|        0|          57000|[1.0,35.0,0.0]|[1.99750858138724...|\n",
      "|     1| 58|        1|          95000|[1.0,58.0,1.0]|[1.99750858138724...|\n",
      "|     0| 34|        0|         115000|[0.0,34.0,0.0]|[0.0,3.2621352195...|\n",
      "+------+---+---------+---------------+--------------+--------------------+\n",
      "only showing top 3 rows\n",
      "\n"
     ]
    }
   ],
   "source": [
    "# create a vector assembler and standard scaler\n",
    "\n",
    "cols = df_train.columns\n",
    "cols.remove('EstimatedSalary')\n",
    "\n",
    "df_train = VectorAssembler(inputCols=cols, outputCol='features').transform(df_train)\n",
    "\n",
    "df_train = StandardScaler(inputCol='features', outputCol='features_scaled').fit(df_train).transform(df_train)\n",
    "\n",
    "df_train.show(3)"
   ]
  },
  {
   "cell_type": "code",
   "execution_count": 24,
   "metadata": {},
   "outputs": [
    {
     "name": "stdout",
     "output_type": "stream",
     "text": [
      "+------+---+---------+---------------+--------------+--------------------+\n",
      "|Gender|Age|Purchased|EstimatedSalary|      features|     features_scaled|\n",
      "+------+---+---------+---------------+--------------+--------------------+\n",
      "|     1| 26|        0|          80000|[1.0,26.0,0.0]|[1.98713813025616...|\n",
      "|     0| 40|        1|          71000|[0.0,40.0,1.0]|[0.0,3.7070677011...|\n",
      "|     1| 58|        1|          47000|[1.0,58.0,1.0]|[1.98713813025616...|\n",
      "+------+---+---------+---------------+--------------+--------------------+\n",
      "only showing top 3 rows\n",
      "\n"
     ]
    }
   ],
   "source": [
    "df_test = VectorAssembler(inputCols=cols, outputCol='features').transform(df_test)\n",
    "\n",
    "df_test = StandardScaler(inputCol='features', outputCol='features_scaled').fit(df_test).transform(df_test)\n",
    "\n",
    "df_test.show(3)"
   ]
  },
  {
   "cell_type": "code",
   "execution_count": 25,
   "metadata": {},
   "outputs": [
    {
     "data": {
      "text/plain": [
       "LogisticRegressionModel: uid=LogisticRegression_f84e2555ccac, numClasses=2, numFeatures=3"
      ]
     },
     "execution_count": 25,
     "metadata": {},
     "output_type": "execute_result"
    }
   ],
   "source": [
    "# create a logistic regression model\n",
    "lr = LogisticRegression(featuresCol='features_scaled', labelCol='Purchased', maxIter=100).fit(df_train)\n",
    "\n",
    "lr"
   ]
  },
  {
   "cell_type": "code",
   "execution_count": 26,
   "metadata": {},
   "outputs": [
    {
     "name": "stdout",
     "output_type": "stream",
     "text": [
      "+---------+----------+\n",
      "|Purchased|prediction|\n",
      "+---------+----------+\n",
      "|        0|       0.0|\n",
      "|        1|       1.0|\n",
      "|        1|       1.0|\n",
      "|        0|       0.0|\n",
      "|        0|       0.0|\n",
      "|        0|       0.0|\n",
      "|        0|       0.0|\n",
      "|        0|       0.0|\n",
      "|        1|       1.0|\n",
      "|        0|       0.0|\n",
      "|        1|       1.0|\n",
      "|        1|       1.0|\n",
      "|        0|       0.0|\n",
      "|        1|       1.0|\n",
      "|        0|       0.0|\n",
      "|        1|       1.0|\n",
      "|        0|       0.0|\n",
      "|        0|       0.0|\n",
      "|        0|       0.0|\n",
      "|        0|       0.0|\n",
      "+---------+----------+\n",
      "only showing top 20 rows\n",
      "\n"
     ]
    }
   ],
   "source": [
    "# make predictions\n",
    "predictions = lr.transform(df_test)\n",
    "\n",
    "predictions.select('Purchased', 'prediction').show()"
   ]
  },
  {
   "cell_type": "code",
   "execution_count": 27,
   "metadata": {},
   "outputs": [
    {
     "data": {
      "text/plain": [
       "1.0"
      ]
     },
     "execution_count": 27,
     "metadata": {},
     "output_type": "execute_result"
    }
   ],
   "source": [
    "# evaluate the model with binary classification evaluator\n",
    "evaluatorBinary = BinaryClassificationEvaluator(labelCol='Purchased')\n",
    "\n",
    "evaluatorBinary.evaluate(predictions)"
   ]
  },
  {
   "cell_type": "code",
   "execution_count": 28,
   "metadata": {},
   "outputs": [
    {
     "data": {
      "text/plain": [
       "1.0"
      ]
     },
     "execution_count": 28,
     "metadata": {},
     "output_type": "execute_result"
    }
   ],
   "source": [
    "# evaluate the model with multiclass classification evaluator\n",
    "evaluatorMulti = MulticlassClassificationEvaluator(labelCol='Purchased')\n",
    "\n",
    "evaluatorMulti.evaluate(predictions)"
   ]
  }
 ],
 "metadata": {
  "kernelspec": {
   "display_name": "Python 3",
   "language": "python",
   "name": "python3"
  },
  "language_info": {
   "codemirror_mode": {
    "name": "ipython",
    "version": 3
   },
   "file_extension": ".py",
   "mimetype": "text/x-python",
   "name": "python",
   "nbconvert_exporter": "python",
   "pygments_lexer": "ipython3",
   "version": "3.7.6"
  }
 },
 "nbformat": 4,
 "nbformat_minor": 2
}
